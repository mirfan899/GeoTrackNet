{
 "cells": [
  {
   "cell_type": "code",
   "id": "7f856a9c",
   "metadata": {
    "execution": {
     "iopub.execute_input": "2024-05-22T04:04:33.417709Z",
     "iopub.status.busy": "2024-05-22T04:04:33.417318Z",
     "iopub.status.idle": "2024-05-22T04:04:38.467042Z",
     "shell.execute_reply": "2024-05-22T04:04:38.465857Z"
    },
    "papermill": {
     "duration": 5.059568,
     "end_time": "2024-05-22T04:04:38.469695",
     "exception": false,
     "start_time": "2024-05-22T04:04:33.410127",
     "status": "completed"
    },
    "tags": []
   },
   "source": [
    "!git clone https://github.com/mirfan899/GeoTrackNet.git"
   ],
   "outputs": [],
   "execution_count": null
  },
  {
   "cell_type": "code",
   "id": "73e5d013",
   "metadata": {
    "execution": {
     "iopub.execute_input": "2024-05-22T04:04:38.487454Z",
     "iopub.status.busy": "2024-05-22T04:04:38.486692Z",
     "iopub.status.idle": "2024-05-22T04:04:38.493504Z",
     "shell.execute_reply": "2024-05-22T04:04:38.492523Z"
    },
    "papermill": {
     "duration": 0.016919,
     "end_time": "2024-05-22T04:04:38.495586",
     "exception": false,
     "start_time": "2024-05-22T04:04:38.478667",
     "status": "completed"
    },
    "tags": []
   },
   "source": [
    "%cd GeoTrackNet"
   ],
   "outputs": [],
   "execution_count": null
  },
  {
   "cell_type": "code",
   "id": "7ca45ad3",
   "metadata": {
    "_cell_guid": "b1076dfc-b9ad-4769-8c92-a6c4dae69d19",
    "_uuid": "8f2839f25d086af736a60e9eeb907d3b93b6e0e5",
    "execution": {
     "iopub.execute_input": "2024-05-22T04:04:38.511086Z",
     "iopub.status.busy": "2024-05-22T04:04:38.510728Z",
     "iopub.status.idle": "2024-05-22T04:05:48.953878Z",
     "shell.execute_reply": "2024-05-22T04:05:48.952663Z"
    },
    "papermill": {
     "duration": 70.453758,
     "end_time": "2024-05-22T04:05:48.956371",
     "exception": false,
     "start_time": "2024-05-22T04:04:38.502613",
     "status": "completed"
    },
    "tags": []
   },
   "source": [
    "!conda create -n PY3GPU python=3.6 -y -vv"
   ],
   "outputs": [],
   "execution_count": null
  },
  {
   "cell_type": "code",
   "id": "f35ca052",
   "metadata": {
    "execution": {
     "iopub.execute_input": "2024-05-22T04:05:48.993497Z",
     "iopub.status.busy": "2024-05-22T04:05:48.993125Z",
     "iopub.status.idle": "2024-05-22T04:05:48.997904Z",
     "shell.execute_reply": "2024-05-22T04:05:48.996977Z"
    },
    "papermill": {
     "duration": 0.025657,
     "end_time": "2024-05-22T04:05:48.999879",
     "exception": false,
     "start_time": "2024-05-22T04:05:48.974222",
     "status": "completed"
    },
    "tags": []
   },
   "source": [
    "import os\n",
    "\n",
    "old_path = os.environ[\"PATH\"]"
   ],
   "outputs": [],
   "execution_count": null
  },
  {
   "cell_type": "code",
   "id": "bf12065d",
   "metadata": {
    "execution": {
     "iopub.execute_input": "2024-05-22T04:05:49.037726Z",
     "iopub.status.busy": "2024-05-22T04:05:49.037405Z",
     "iopub.status.idle": "2024-05-22T04:05:49.041888Z",
     "shell.execute_reply": "2024-05-22T04:05:49.040975Z"
    },
    "papermill": {
     "duration": 0.02479,
     "end_time": "2024-05-22T04:05:49.043830",
     "exception": false,
     "start_time": "2024-05-22T04:05:49.019040",
     "status": "completed"
    },
    "tags": []
   },
   "source": [
    "new_path = f\"/opt/conda/envs/PY3GPU/bin:{old_path}\""
   ],
   "outputs": [],
   "execution_count": null
  },
  {
   "cell_type": "code",
   "id": "0868665a",
   "metadata": {
    "execution": {
     "iopub.execute_input": "2024-05-22T04:05:49.078955Z",
     "iopub.status.busy": "2024-05-22T04:05:49.078357Z",
     "iopub.status.idle": "2024-05-22T04:05:49.083590Z",
     "shell.execute_reply": "2024-05-22T04:05:49.082697Z"
    },
    "papermill": {
     "duration": 0.02531,
     "end_time": "2024-05-22T04:05:49.085961",
     "exception": false,
     "start_time": "2024-05-22T04:05:49.060651",
     "status": "completed"
    },
    "tags": []
   },
   "source": [
    "%env PATH=$new_path"
   ],
   "outputs": [],
   "execution_count": null
  },
  {
   "cell_type": "code",
   "id": "cbe34164",
   "metadata": {
    "execution": {
     "iopub.execute_input": "2024-05-22T04:05:49.121091Z",
     "iopub.status.busy": "2024-05-22T04:05:49.120789Z",
     "iopub.status.idle": "2024-05-22T04:05:50.074730Z",
     "shell.execute_reply": "2024-05-22T04:05:50.073682Z"
    },
    "papermill": {
     "duration": 0.97441,
     "end_time": "2024-05-22T04:05:50.077184",
     "exception": false,
     "start_time": "2024-05-22T04:05:49.102774",
     "status": "completed"
    },
    "tags": []
   },
   "source": [
    "!python --version"
   ],
   "outputs": [],
   "execution_count": null
  },
  {
   "cell_type": "code",
   "id": "01f30378",
   "metadata": {
    "execution": {
     "iopub.execute_input": "2024-05-22T04:05:50.114430Z",
     "iopub.status.busy": "2024-05-22T04:05:50.114081Z",
     "iopub.status.idle": "2024-05-22T04:27:28.077256Z",
     "shell.execute_reply": "2024-05-22T04:27:28.076143Z"
    },
    "papermill": {
     "duration": 1297.984156,
     "end_time": "2024-05-22T04:27:28.079699",
     "exception": false,
     "start_time": "2024-05-22T04:05:50.095543",
     "status": "completed"
    },
    "tags": []
   },
   "source": [
    "# !conda install --name myenv --file=requirements.yml\n",
    "\n",
    "!conda env update --file requirements.yml -vv"
   ],
   "outputs": [],
   "execution_count": null
  },
  {
   "cell_type": "code",
   "id": "fa6dbe95",
   "metadata": {
    "execution": {
     "iopub.execute_input": "2024-05-22T04:27:28.223814Z",
     "iopub.status.busy": "2024-05-22T04:27:28.222952Z",
     "iopub.status.idle": "2024-05-22T04:27:29.197254Z",
     "shell.execute_reply": "2024-05-22T04:27:29.196061Z"
    },
    "papermill": {
     "duration": 1.049413,
     "end_time": "2024-05-22T04:27:29.199682",
     "exception": false,
     "start_time": "2024-05-22T04:27:28.150269",
     "status": "completed"
    },
    "tags": []
   },
   "source": [
    "!echo $CONDA_DEFAULT_ENV"
   ],
   "outputs": [],
   "execution_count": null
  },
  {
   "cell_type": "code",
   "id": "6dec420a",
   "metadata": {
    "execution": {
     "iopub.execute_input": "2024-05-22T04:27:29.387183Z",
     "iopub.status.busy": "2024-05-22T04:27:29.386282Z",
     "iopub.status.idle": "2024-05-22T04:27:29.392678Z",
     "shell.execute_reply": "2024-05-22T04:27:29.391797Z"
    },
    "papermill": {
     "duration": 0.124658,
     "end_time": "2024-05-22T04:27:29.394567",
     "exception": false,
     "start_time": "2024-05-22T04:27:29.269909",
     "status": "completed"
    },
    "tags": []
   },
   "source": [
    "%cd data"
   ],
   "outputs": [],
   "execution_count": null
  },
  {
   "cell_type": "code",
   "id": "040d0a61",
   "metadata": {
    "execution": {
     "iopub.execute_input": "2024-05-22T04:27:29.537622Z",
     "iopub.status.busy": "2024-05-22T04:27:29.536979Z",
     "iopub.status.idle": "2024-05-22T04:27:30.479776Z",
     "shell.execute_reply": "2024-05-22T04:27:30.478805Z"
    },
    "papermill": {
     "duration": 1.01804,
     "end_time": "2024-05-22T04:27:30.482218",
     "exception": false,
     "start_time": "2024-05-22T04:27:29.464178",
     "status": "completed"
    },
    "tags": []
   },
   "source": [
    "!mkdir csvs"
   ],
   "outputs": [],
   "execution_count": null
  },
  {
   "cell_type": "code",
   "id": "f9bfcc7e",
   "metadata": {
    "execution": {
     "iopub.execute_input": "2024-05-22T04:27:30.626560Z",
     "iopub.status.busy": "2024-05-22T04:27:30.625656Z",
     "iopub.status.idle": "2024-05-22T04:27:41.265660Z",
     "shell.execute_reply": "2024-05-22T04:27:41.264536Z"
    },
    "papermill": {
     "duration": 10.714352,
     "end_time": "2024-05-22T04:27:41.268018",
     "exception": false,
     "start_time": "2024-05-22T04:27:30.553666",
     "status": "completed"
    },
    "tags": []
   },
   "source": [
    "!cp /kaggle/input/ais-gis-3/*.* ./csvs"
   ],
   "outputs": [],
   "execution_count": null
  },
  {
   "cell_type": "code",
   "id": "24406862",
   "metadata": {
    "execution": {
     "iopub.execute_input": "2024-05-22T04:27:41.413948Z",
     "iopub.status.busy": "2024-05-22T04:27:41.413042Z",
     "iopub.status.idle": "2024-05-22T04:27:42.363007Z",
     "shell.execute_reply": "2024-05-22T04:27:42.361571Z"
    },
    "papermill": {
     "duration": 1.027149,
     "end_time": "2024-05-22T04:27:42.365954",
     "exception": false,
     "start_time": "2024-05-22T04:27:41.338805",
     "status": "completed"
    },
    "tags": []
   },
   "source": [
    "!ls csvs"
   ],
   "outputs": [],
   "execution_count": null
  },
  {
   "cell_type": "code",
   "id": "eed82fa8",
   "metadata": {
    "execution": {
     "iopub.execute_input": "2024-05-22T04:27:42.541202Z",
     "iopub.status.busy": "2024-05-22T04:27:42.540799Z",
     "iopub.status.idle": "2024-05-22T04:27:42.546851Z",
     "shell.execute_reply": "2024-05-22T04:27:42.546052Z"
    },
    "papermill": {
     "duration": 0.090722,
     "end_time": "2024-05-22T04:27:42.548823",
     "exception": false,
     "start_time": "2024-05-22T04:27:42.458101",
     "status": "completed"
    },
    "tags": []
   },
   "source": [
    "%cd .."
   ],
   "outputs": [],
   "execution_count": null
  },
  {
   "cell_type": "code",
   "id": "89292b40",
   "metadata": {
    "execution": {
     "iopub.execute_input": "2024-05-22T04:27:42.692236Z",
     "iopub.status.busy": "2024-05-22T04:27:42.691617Z",
     "iopub.status.idle": "2024-05-22T04:27:43.943245Z",
     "shell.execute_reply": "2024-05-22T04:27:43.942083Z"
    },
    "papermill": {
     "duration": 1.325849,
     "end_time": "2024-05-22T04:27:43.945669",
     "exception": false,
     "start_time": "2024-05-22T04:27:42.619820",
     "status": "completed"
    },
    "tags": []
   },
   "source": [
    "!cp -R /kaggle/input/ais-gis-checkpoint3/GeoTrackNet/chkpt/*.* /kaggle/working/GeoTrackNet/chkpt/"
   ],
   "outputs": [],
   "execution_count": null
  },
  {
   "cell_type": "code",
   "id": "77dbb5e9",
   "metadata": {
    "execution": {
     "iopub.execute_input": "2024-05-22T04:27:44.090980Z",
     "iopub.status.busy": "2024-05-22T04:27:44.090622Z",
     "iopub.status.idle": "2024-05-22T05:45:46.648388Z",
     "shell.execute_reply": "2024-05-22T05:45:46.647163Z"
    },
    "papermill": {
     "duration": 4682.633319,
     "end_time": "2024-05-22T05:45:46.650897",
     "exception": false,
     "start_time": "2024-05-22T04:27:44.017578",
     "status": "completed"
    },
    "tags": []
   },
   "source": [
    "!python geotracknet.py \\\n",
    "  --mode=save_logprob \\\n",
    "  --dataset_dir=./data \\\n",
    "  --trainingset_name=csvs/clean_csvs_train_track_out.pkl \\\n",
    "  --testset_name=csvs/clean_csvs_valid_track_out.pkl \\\n",
    "  --lat_min=4.7 \\\n",
    "  --lat_max=20.5 \\\n",
    "  --lon_min=116.8 \\\n",
    "  --lon_max=126.6 \\\n",
    "  --latent_size=50 \\\n",
    "  --batch_size=4 \\\n",
    "  --num_samples=4 \\\n",
    "  --learning_rate=0.0003 \\"
   ],
   "outputs": [],
   "execution_count": null
  },
  {
   "cell_type": "code",
   "id": "6374a2ce",
   "metadata": {
    "execution": {
     "iopub.execute_input": "2024-05-22T05:45:47.016073Z",
     "iopub.status.busy": "2024-05-22T05:45:47.015202Z",
     "iopub.status.idle": "2024-05-22T05:47:44.155610Z",
     "shell.execute_reply": "2024-05-22T05:47:44.154479Z"
    },
    "papermill": {
     "duration": 117.325842,
     "end_time": "2024-05-22T05:47:44.157952",
     "exception": false,
     "start_time": "2024-05-22T05:45:46.832110",
     "status": "completed"
    },
    "tags": []
   },
   "source": [
    "!python geotracknet.py \\\n",
    "  --mode=local_logprob \\\n",
    "  --dataset_dir=./data \\\n",
    "  --trainingset_name=csvs/clean_csvs_train_track_out.pkl \\\n",
    "  --testset_name=csvs/clean_csvs_valid_track_out.pkl \\\n",
    "  --lat_min=4.7 \\\n",
    "  --lat_max=20.5 \\\n",
    "  --lon_min=116.8 \\\n",
    "  --lon_max=126.6 \\\n",
    "  --latent_size=50 \\\n",
    "  --batch_size=4 \\\n",
    "  --num_samples=4 \\\n",
    "  --learning_rate=0.0003 \\"
   ],
   "outputs": [],
   "execution_count": null
  },
  {
   "cell_type": "code",
   "id": "a76853b7",
   "metadata": {
    "execution": {
     "iopub.execute_input": "2024-05-22T05:47:45.070061Z",
     "iopub.status.busy": "2024-05-22T05:47:45.069378Z",
     "iopub.status.idle": "2024-05-22T10:50:23.806129Z",
     "shell.execute_reply": "2024-05-22T10:50:23.804931Z"
    },
    "papermill": {
     "duration": 18159.195146,
     "end_time": "2024-05-22T10:50:23.808498",
     "exception": false,
     "start_time": "2024-05-22T05:47:44.613352",
     "status": "completed"
    },
    "tags": []
   },
   "source": [
    "!python geotracknet.py \\\n",
    "  --mode=contrario_detection \\\n",
    "  --dataset_dir=./data \\\n",
    "  --trainingset_name=csvs/clean_csvs_train_track_out.pkl \\\n",
    "  --testset_name=csvs/clean_csvs_valid_track_out.pkl \\\n",
    "  --lat_min=4.7 \\\n",
    "  --lat_max=20.5 \\\n",
    "  --lon_min=116.8 \\\n",
    "  --lon_max=126.6 \\\n",
    "  --latent_size=50 \\\n",
    "  --batch_size=4 \\\n",
    "  --num_samples=4 \\\n",
    "  --learning_rate=0.0003 \\"
   ],
   "outputs": [],
   "execution_count": null
  }
 ],
 "metadata": {
  "kaggle": {
   "accelerator": "gpu",
   "dataSources": [
    {
     "datasetId": 5057299,
     "sourceId": 8479479,
     "sourceType": "datasetVersion"
    },
    {
     "datasetId": 5059360,
     "sourceId": 8482280,
     "sourceType": "datasetVersion"
    }
   ],
   "dockerImageVersionId": 30674,
   "isGpuEnabled": true,
   "isInternetEnabled": true,
   "language": "python",
   "sourceType": "notebook"
  },
  "kernelspec": {
   "display_name": "Python 3",
   "language": "python",
   "name": "python3"
  },
  "language_info": {
   "codemirror_mode": {
    "name": "ipython",
    "version": 3
   },
   "file_extension": ".py",
   "mimetype": "text/x-python",
   "name": "python",
   "nbconvert_exporter": "python",
   "pygments_lexer": "ipython3",
   "version": "3.10.13"
  },
  "papermill": {
   "default_parameters": {},
   "duration": 24354.362019,
   "end_time": "2024-05-22T10:50:24.989253",
   "environment_variables": {},
   "exception": null,
   "input_path": "__notebook__.ipynb",
   "output_path": "__notebook__.ipynb",
   "parameters": {},
   "start_time": "2024-05-22T04:04:30.627234",
   "version": "2.5.0"
  }
 },
 "nbformat": 4,
 "nbformat_minor": 5
}
