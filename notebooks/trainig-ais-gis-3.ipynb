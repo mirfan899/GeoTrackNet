{
 "cells": [
  {
   "cell_type": "code",
   "id": "0aa67e4e",
   "metadata": {
    "execution": {
     "iopub.execute_input": "2024-05-21T18:11:30.960285Z",
     "iopub.status.busy": "2024-05-21T18:11:30.959430Z",
     "iopub.status.idle": "2024-05-21T18:11:36.572091Z",
     "shell.execute_reply": "2024-05-21T18:11:36.570999Z"
    },
    "papermill": {
     "duration": 5.622043,
     "end_time": "2024-05-21T18:11:36.574479",
     "exception": false,
     "start_time": "2024-05-21T18:11:30.952436",
     "status": "completed"
    },
    "tags": []
   },
   "source": [
    "!git clone https://github.com/mirfan899/GeoTrackNet.git"
   ],
   "outputs": [],
   "execution_count": null
  },
  {
   "cell_type": "code",
   "id": "3a16f47a",
   "metadata": {
    "execution": {
     "iopub.execute_input": "2024-05-21T18:11:36.587955Z",
     "iopub.status.busy": "2024-05-21T18:11:36.587618Z",
     "iopub.status.idle": "2024-05-21T18:11:36.593946Z",
     "shell.execute_reply": "2024-05-21T18:11:36.593046Z"
    },
    "jupyter": {
     "source_hidden": true
    },
    "papermill": {
     "duration": 0.015183,
     "end_time": "2024-05-21T18:11:36.595789",
     "exception": false,
     "start_time": "2024-05-21T18:11:36.580606",
     "status": "completed"
    },
    "tags": []
   },
   "source": [
    "%cd GeoTrackNet"
   ],
   "outputs": [],
   "execution_count": null
  },
  {
   "cell_type": "code",
   "id": "a62cf510",
   "metadata": {
    "_cell_guid": "b1076dfc-b9ad-4769-8c92-a6c4dae69d19",
    "_uuid": "8f2839f25d086af736a60e9eeb907d3b93b6e0e5",
    "collapsed": true,
    "execution": {
     "iopub.execute_input": "2024-05-21T18:11:36.608815Z",
     "iopub.status.busy": "2024-05-21T18:11:36.608537Z",
     "iopub.status.idle": "2024-05-21T18:12:44.555629Z",
     "shell.execute_reply": "2024-05-21T18:12:44.554473Z"
    },
    "jupyter": {
     "outputs_hidden": true
    },
    "papermill": {
     "duration": 67.95632,
     "end_time": "2024-05-21T18:12:44.558059",
     "exception": false,
     "start_time": "2024-05-21T18:11:36.601739",
     "status": "completed"
    },
    "tags": []
   },
   "source": [
    "!conda create -n PY3GPU python=3.6 -y -vv"
   ],
   "outputs": [],
   "execution_count": null
  },
  {
   "cell_type": "code",
   "id": "d18eb805",
   "metadata": {
    "execution": {
     "iopub.execute_input": "2024-05-21T18:12:44.592560Z",
     "iopub.status.busy": "2024-05-21T18:12:44.592200Z",
     "iopub.status.idle": "2024-05-21T18:12:44.596685Z",
     "shell.execute_reply": "2024-05-21T18:12:44.595881Z"
    },
    "papermill": {
     "duration": 0.023771,
     "end_time": "2024-05-21T18:12:44.598566",
     "exception": false,
     "start_time": "2024-05-21T18:12:44.574795",
     "status": "completed"
    },
    "tags": []
   },
   "source": [
    "import os\n",
    "\n",
    "old_path = os.environ[\"PATH\"]"
   ],
   "outputs": [],
   "execution_count": null
  },
  {
   "cell_type": "code",
   "id": "8419628a",
   "metadata": {
    "execution": {
     "iopub.execute_input": "2024-05-21T18:12:44.633969Z",
     "iopub.status.busy": "2024-05-21T18:12:44.633648Z",
     "iopub.status.idle": "2024-05-21T18:12:44.637820Z",
     "shell.execute_reply": "2024-05-21T18:12:44.636964Z"
    },
    "papermill": {
     "duration": 0.024614,
     "end_time": "2024-05-21T18:12:44.639726",
     "exception": false,
     "start_time": "2024-05-21T18:12:44.615112",
     "status": "completed"
    },
    "tags": []
   },
   "source": [
    "new_path = f\"/opt/conda/envs/PY3GPU/bin:{old_path}\""
   ],
   "outputs": [],
   "execution_count": null
  },
  {
   "cell_type": "code",
   "id": "29fdc057",
   "metadata": {
    "execution": {
     "iopub.execute_input": "2024-05-21T18:12:44.673503Z",
     "iopub.status.busy": "2024-05-21T18:12:44.673177Z",
     "iopub.status.idle": "2024-05-21T18:12:44.678338Z",
     "shell.execute_reply": "2024-05-21T18:12:44.677508Z"
    },
    "papermill": {
     "duration": 0.024257,
     "end_time": "2024-05-21T18:12:44.680254",
     "exception": false,
     "start_time": "2024-05-21T18:12:44.655997",
     "status": "completed"
    },
    "tags": []
   },
   "source": [
    "%env PATH=$new_path"
   ],
   "outputs": [],
   "execution_count": null
  },
  {
   "cell_type": "code",
   "id": "b7dd453c",
   "metadata": {
    "execution": {
     "iopub.execute_input": "2024-05-21T18:12:44.714377Z",
     "iopub.status.busy": "2024-05-21T18:12:44.713674Z",
     "iopub.status.idle": "2024-05-21T18:12:45.669990Z",
     "shell.execute_reply": "2024-05-21T18:12:45.669043Z"
    },
    "papermill": {
     "duration": 0.975871,
     "end_time": "2024-05-21T18:12:45.672415",
     "exception": false,
     "start_time": "2024-05-21T18:12:44.696544",
     "status": "completed"
    },
    "tags": []
   },
   "source": [
    "!python --version"
   ],
   "outputs": [],
   "execution_count": null
  },
  {
   "cell_type": "code",
   "id": "8b595c72",
   "metadata": {
    "collapsed": true,
    "execution": {
     "iopub.execute_input": "2024-05-21T18:12:45.707331Z",
     "iopub.status.busy": "2024-05-21T18:12:45.707011Z",
     "iopub.status.idle": "2024-05-21T18:33:39.255618Z",
     "shell.execute_reply": "2024-05-21T18:33:39.254631Z"
    },
    "jupyter": {
     "outputs_hidden": true
    },
    "papermill": {
     "duration": 1253.568699,
     "end_time": "2024-05-21T18:33:39.258026",
     "exception": false,
     "start_time": "2024-05-21T18:12:45.689327",
     "status": "completed"
    },
    "tags": []
   },
   "source": [
    "# !conda install --name myenv --file=requirements.yml\n",
    "\n",
    "!conda env update --file requirements.yml -vv"
   ],
   "outputs": [],
   "execution_count": null
  },
  {
   "cell_type": "code",
   "id": "af4d6219",
   "metadata": {
    "execution": {
     "iopub.execute_input": "2024-05-21T18:33:39.399548Z",
     "iopub.status.busy": "2024-05-21T18:33:39.399233Z",
     "iopub.status.idle": "2024-05-21T18:33:40.336782Z",
     "shell.execute_reply": "2024-05-21T18:33:40.335898Z"
    },
    "papermill": {
     "duration": 1.010243,
     "end_time": "2024-05-21T18:33:40.338939",
     "exception": false,
     "start_time": "2024-05-21T18:33:39.328696",
     "status": "completed"
    },
    "tags": []
   },
   "source": [
    "!echo $CONDA_DEFAULT_ENV"
   ],
   "outputs": [],
   "execution_count": null
  },
  {
   "cell_type": "code",
   "id": "485795b4",
   "metadata": {
    "execution": {
     "iopub.execute_input": "2024-05-21T18:33:40.527271Z",
     "iopub.status.busy": "2024-05-21T18:33:40.526539Z",
     "iopub.status.idle": "2024-05-21T18:33:40.532509Z",
     "shell.execute_reply": "2024-05-21T18:33:40.531632Z"
    },
    "papermill": {
     "duration": 0.124092,
     "end_time": "2024-05-21T18:33:40.534360",
     "exception": false,
     "start_time": "2024-05-21T18:33:40.410268",
     "status": "completed"
    },
    "tags": []
   },
   "source": [
    "%cd data"
   ],
   "outputs": [],
   "execution_count": null
  },
  {
   "cell_type": "code",
   "id": "c4dc9549",
   "metadata": {
    "execution": {
     "iopub.execute_input": "2024-05-21T18:33:40.674673Z",
     "iopub.status.busy": "2024-05-21T18:33:40.674400Z",
     "iopub.status.idle": "2024-05-21T18:33:41.612122Z",
     "shell.execute_reply": "2024-05-21T18:33:41.611244Z"
    },
    "papermill": {
     "duration": 1.010324,
     "end_time": "2024-05-21T18:33:41.614247",
     "exception": false,
     "start_time": "2024-05-21T18:33:40.603923",
     "status": "completed"
    },
    "tags": []
   },
   "source": [
    "!mkdir csvs"
   ],
   "outputs": [],
   "execution_count": null
  },
  {
   "cell_type": "code",
   "id": "d9c2bc4e",
   "metadata": {
    "execution": {
     "iopub.execute_input": "2024-05-21T18:33:41.756349Z",
     "iopub.status.busy": "2024-05-21T18:33:41.755984Z",
     "iopub.status.idle": "2024-05-21T18:33:49.339141Z",
     "shell.execute_reply": "2024-05-21T18:33:49.338090Z"
    },
    "papermill": {
     "duration": 7.656683,
     "end_time": "2024-05-21T18:33:49.341655",
     "exception": false,
     "start_time": "2024-05-21T18:33:41.684972",
     "status": "completed"
    },
    "tags": []
   },
   "source": [
    "!cp /kaggle/input/ais-gis-3/*.* ./csvs"
   ],
   "outputs": [],
   "execution_count": null
  },
  {
   "cell_type": "code",
   "id": "6e658344",
   "metadata": {
    "execution": {
     "iopub.execute_input": "2024-05-21T18:33:49.485028Z",
     "iopub.status.busy": "2024-05-21T18:33:49.484678Z",
     "iopub.status.idle": "2024-05-21T18:33:50.420577Z",
     "shell.execute_reply": "2024-05-21T18:33:50.419665Z"
    },
    "papermill": {
     "duration": 1.010206,
     "end_time": "2024-05-21T18:33:50.422721",
     "exception": false,
     "start_time": "2024-05-21T18:33:49.412515",
     "status": "completed"
    },
    "tags": []
   },
   "source": [
    "!ls csvs"
   ],
   "outputs": [],
   "execution_count": null
  },
  {
   "cell_type": "code",
   "id": "63d47225",
   "metadata": {
    "execution": {
     "iopub.execute_input": "2024-05-21T18:33:50.567045Z",
     "iopub.status.busy": "2024-05-21T18:33:50.566725Z",
     "iopub.status.idle": "2024-05-21T18:33:50.572624Z",
     "shell.execute_reply": "2024-05-21T18:33:50.571723Z"
    },
    "papermill": {
     "duration": 0.07942,
     "end_time": "2024-05-21T18:33:50.574558",
     "exception": false,
     "start_time": "2024-05-21T18:33:50.495138",
     "status": "completed"
    },
    "tags": []
   },
   "source": [
    "%cd .."
   ],
   "outputs": [],
   "execution_count": null
  },
  {
   "cell_type": "code",
   "id": "67c37331",
   "metadata": {
    "execution": {
     "iopub.execute_input": "2024-05-21T18:33:50.715952Z",
     "iopub.status.busy": "2024-05-21T18:33:50.715030Z",
     "iopub.status.idle": "2024-05-22T01:14:14.375339Z",
     "shell.execute_reply": "2024-05-22T01:14:14.374203Z"
    },
    "papermill": {
     "duration": 24023.733474,
     "end_time": "2024-05-22T01:14:14.378133",
     "exception": false,
     "start_time": "2024-05-21T18:33:50.644659",
     "status": "completed"
    },
    "tags": []
   },
   "source": [
    "!python geotracknet.py \\\n",
    "  --mode=train \\\n",
    "  --dataset_dir=./data \\\n",
    "  --trainingset_name=csvs/clean_csvs_train_track_out.pkl \\\n",
    "  --testset_name=csvs/clean_csvs_valid_track_out.pkl \\\n",
    "  --lat_min=4.7 \\\n",
    "  --lat_max=20.5 \\\n",
    "  --lon_min=116.8 \\\n",
    "  --lon_max=126.6 \\\n",
    "  --latent_size=50 \\\n",
    "  --batch_size=4 \\\n",
    "  --num_samples=4 \\\n",
    "  --learning_rate=0.0003 \\"
   ],
   "outputs": [],
   "execution_count": null
  }
 ],
 "metadata": {
  "kaggle": {
   "accelerator": "gpu",
   "dataSources": [
    {
     "datasetId": 5057299,
     "sourceId": 8479479,
     "sourceType": "datasetVersion"
    }
   ],
   "dockerImageVersionId": 30674,
   "isGpuEnabled": true,
   "isInternetEnabled": true,
   "language": "python",
   "sourceType": "notebook"
  },
  "kernelspec": {
   "display_name": "Python 3",
   "language": "python",
   "name": "python3"
  },
  "language_info": {
   "codemirror_mode": {
    "name": "ipython",
    "version": 3
   },
   "file_extension": ".py",
   "mimetype": "text/x-python",
   "name": "python",
   "nbconvert_exporter": "python",
   "pygments_lexer": "ipython3",
   "version": "3.10.13"
  },
  "papermill": {
   "default_parameters": {},
   "duration": 25366.614661,
   "end_time": "2024-05-22T01:14:14.744468",
   "environment_variables": {},
   "exception": null,
   "input_path": "__notebook__.ipynb",
   "output_path": "__notebook__.ipynb",
   "parameters": {},
   "start_time": "2024-05-21T18:11:28.129807",
   "version": "2.5.0"
  }
 },
 "nbformat": 4,
 "nbformat_minor": 5
}
